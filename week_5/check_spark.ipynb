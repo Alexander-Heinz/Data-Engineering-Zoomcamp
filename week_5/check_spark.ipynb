{
 "cells": [
  {
   "cell_type": "code",
   "execution_count": 3,
   "metadata": {},
   "outputs": [
    {
     "name": "stdout",
     "output_type": "stream",
     "text": [
      "Welcome to\n",
      "      ____              __\n",
      "     / __/__  ___ _____/ /__\n",
      "    _\\ \\/ _ \\/ _ `/ __/  '_/\n",
      "   /___/ .__/\\_,_/_/ /_/\\_\\   version 3.5.5\n",
      "      /_/\n",
      "                        \n",
      "Using Scala version 2.12.18, Java HotSpot(TM) 64-Bit Server VM, 1.8.0_441\n",
      "Branch HEAD\n",
      "Compiled by user ubuntu on 2025-02-23T20:30:46Z\n",
      "Revision 7c29c664cdc9321205a98a14858aaf8daaa19db2\n",
      "Url https://github.com/apache/spark\n",
      "Type --help for more information.\n"
     ]
    },
    {
     "name": "stderr",
     "output_type": "stream",
     "text": [
      "Setting default log level to \"WARN\".\n",
      "To adjust logging level use sc.setLogLevel(newLevel). For SparkR, use setLogLevel(newLevel).\n",
      "25/03/15 12:53:05 WARN NativeCodeLoader: Unable to load native-hadoop library for your platform... using builtin-java classes where applicable\n"
     ]
    },
    {
     "name": "stdout",
     "output_type": "stream",
     "text": [
      "The PySpark 3.5.5 version is running...\n"
     ]
    }
   ],
   "source": [
    "import pyspark\n",
    "from pyspark.sql import SparkSession\n",
    "\n",
    "!spark-shell --version\n",
    "\n",
    "# Create SparkSession\n",
    "spark = SparkSession.builder.master(\"local[1]\") \\\n",
    "                    .appName('test-spark') \\\n",
    "                    .getOrCreate()\n",
    "\n",
    "print(f'The PySpark {spark.version} version is running...')"
   ]
  },
  {
   "cell_type": "code",
   "execution_count": 4,
   "metadata": {},
   "outputs": [],
   "source": [
    "import pyspark"
   ]
  },
  {
   "cell_type": "code",
   "execution_count": 6,
   "metadata": {},
   "outputs": [
    {
     "name": "stderr",
     "output_type": "stream",
     "text": [
      "[Stage 3:============================================>              (3 + 1) / 4]\r"
     ]
    },
    {
     "name": "stdout",
     "output_type": "stream",
     "text": [
      "Average Parquet File Size: 23.78 MB\n"
     ]
    },
    {
     "name": "stderr",
     "output_type": "stream",
     "text": [
      "                                                                                \r"
     ]
    }
   ],
   "source": [
    "from pyspark.sql import SparkSession\n",
    "import os\n",
    "\n",
    "# Step 1: Initialize Spark Session\n",
    "spark = SparkSession.builder.appName(\"YellowTaxiData\").getOrCreate()\n",
    "\n",
    "# Step 2: Read the Parquet file into a Spark DataFrame\n",
    "input_path = \"yellow_tripdata_2024-10.parquet\"  # Update with your actual file path\n",
    "df = spark.read.parquet(input_path)\n",
    "\n",
    "# Step 3: Repartition the DataFrame into 4 partitions\n",
    "df = df.repartition(4)\n",
    "\n",
    "# Step 4: Write the DataFrame to Parquet\n",
    "output_path = \"yellow_tripdata_2024-10_repartitioned\"\n",
    "df.write.mode(\"overwrite\").parquet(output_path)\n",
    "\n",
    "# Step 5: Compute the average Parquet file size\n",
    "parquet_files = [f for f in os.listdir(output_path) if f.endswith(\".parquet\")]\n",
    "total_size = sum(os.path.getsize(os.path.join(output_path, f)) for f in parquet_files)  # Total size in bytes\n",
    "average_size_mb = (total_size / len(parquet_files)) / (1024 * 1024)  # Convert bytes to MB\n",
    "\n",
    "print(f\"Average Parquet File Size: {average_size_mb:.2f} MB\")\n"
   ]
  },
  {
   "cell_type": "code",
   "execution_count": 7,
   "metadata": {},
   "outputs": [
    {
     "data": {
      "text/plain": [
       "24939051.5"
      ]
     },
     "execution_count": 7,
     "metadata": {},
     "output_type": "execute_result"
    }
   ],
   "source": [
    "(total_size / len(parquet_files))"
   ]
  },
  {
   "cell_type": "code",
   "execution_count": 40,
   "metadata": {},
   "outputs": [
    {
     "name": "stdout",
     "output_type": "stream",
     "text": [
      "Number of taxi trips on October 15th, 2024: 128893\n"
     ]
    }
   ],
   "source": [
    "from pyspark.sql.functions import col, to_date\n",
    "\n",
    "# Step 3: Convert the pickup datetime column to date format\n",
    "df = df.withColumn(\"pickup_date\", to_date(col(\"tpep_pickup_datetime\")))\n",
    "df = df.withColumn(\"dropoff_date\", to_date(col(\"tpep_dropoff_datetime\")))\n",
    "\n",
    "# Step 4: Filter for trips that started on October 15th, 2024\n",
    "filtered_df = df.filter((col(\"pickup_date\") == \"2024-10-15\") #& \n",
    "                       # (col(\"dropoff_date\") == \"2024-10-15\") #&\n",
    "                        # col(\"passenger_count\").isNotNull()\n",
    "                        )\n",
    "\n",
    "# Step 5: Count the number of trips\n",
    "trip_count = filtered_df.count()\n",
    "\n",
    "print(f\"Number of taxi trips on October 15th, 2024: {trip_count}\")\n"
   ]
  },
  {
   "cell_type": "code",
   "execution_count": 41,
   "metadata": {},
   "outputs": [
    {
     "name": "stdout",
     "output_type": "stream",
     "text": [
      "Longest trip duration: 162.62 hours\n"
     ]
    }
   ],
   "source": [
    "from pyspark.sql.functions import col, unix_timestamp\n",
    "\n",
    "# Calculate trip duration in hours\n",
    "df = df.withColumn(\"trip_duration_hours\", \n",
    "                   (unix_timestamp(col(\"tpep_dropoff_datetime\")) - unix_timestamp(col(\"tpep_pickup_datetime\"))) / 3600)\n",
    "\n",
    "# Find the maximum trip duration\n",
    "max_trip_duration = df.selectExpr(\"MAX(trip_duration_hours) AS longest_trip_hours\").collect()[0][\"longest_trip_hours\"]\n",
    "\n",
    "print(f\"Longest trip duration: {max_trip_duration:.2f} hours\")\n"
   ]
  },
  {
   "cell_type": "code",
   "execution_count": 42,
   "metadata": {},
   "outputs": [
    {
     "name": "stdout",
     "output_type": "stream",
     "text": [
      "root\n",
      " |-- LocationID: integer (nullable = true)\n",
      " |-- Borough: string (nullable = true)\n",
      " |-- Zone: string (nullable = true)\n",
      " |-- service_zone: string (nullable = true)\n",
      "\n"
     ]
    }
   ],
   "source": [
    "\n",
    "# Load into a Spark DataFrame\n",
    "zone_df = spark.read.csv(\"taxi_zone_lookup.csv\", header=True, inferSchema=True)\n",
    "\n",
    "# Show schema to verify column names\n",
    "zone_df.printSchema()"
   ]
  },
  {
   "cell_type": "code",
   "execution_count": 44,
   "metadata": {},
   "outputs": [
    {
     "name": "stdout",
     "output_type": "stream",
     "text": [
      "Least frequent pickup location zone: Governor's Island/Ellis Island/Liberty Island\n"
     ]
    },
    {
     "name": "stderr",
     "output_type": "stream",
     "text": [
      "                                                                                \r"
     ]
    }
   ],
   "source": [
    "# Join the taxi data with zone lookup on PULocationID\n",
    "joined_df = df.join(zone_df, df.PULocationID == zone_df.LocationID, \"left\")\n",
    "\n",
    "# Count trips per pickup zone\n",
    "zone_trip_counts = joined_df.groupBy(\"Zone\").count()\n",
    "\n",
    "# Find the least frequent pickup location\n",
    "least_frequent_zone = zone_trip_counts.orderBy(\"count\").first()[\"Zone\"]\n",
    "\n",
    "print(f\"Least frequent pickup location zone: {least_frequent_zone}\")\n"
   ]
  },
  {
   "cell_type": "code",
   "execution_count": null,
   "metadata": {},
   "outputs": [],
   "source": []
  }
 ],
 "metadata": {
  "kernelspec": {
   "display_name": "DEZ",
   "language": "python",
   "name": "python3"
  },
  "language_info": {
   "codemirror_mode": {
    "name": "ipython",
    "version": 3
   },
   "file_extension": ".py",
   "mimetype": "text/x-python",
   "name": "python",
   "nbconvert_exporter": "python",
   "pygments_lexer": "ipython3",
   "version": "3.11.11"
  }
 },
 "nbformat": 4,
 "nbformat_minor": 2
}
